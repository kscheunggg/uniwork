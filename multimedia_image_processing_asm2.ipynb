{
  "nbformat": 4,
  "nbformat_minor": 0,
  "metadata": {
    "colab": {
      "provenance": []
    },
    "kernelspec": {
      "name": "python3",
      "display_name": "Python 3"
    },
    "language_info": {
      "name": "python"
    }
  },
  "cells": [
    {
      "cell_type": "code",
      "execution_count": 18,
      "metadata": {
        "id": "wkxqXaMRCFMs"
      },
      "outputs": [],
      "source": [
        "import numpy as np\n",
        "import matplotlib.pyplot as plt\n",
        "import cv2\n",
        "from scipy import interpolate"
      ]
    },
    {
      "cell_type": "markdown",
      "source": [
        "# Question 1"
      ],
      "metadata": {
        "id": "J0cYjGj7r-bh"
      }
    },
    {
      "cell_type": "code",
      "source": [
        "def apply_mat(im, mat):\n",
        "  return np.stack([np.sum(im * mat[i:i+1, :], axis=1) for i in range(3)], axis=1)\n",
        "\n",
        "im = np.array([[0.8, 0.8, 0.8],\n",
        "               [0.5, 0.5, 0.5],\n",
        "               [1.0, 0.2, 0],\n",
        "               [0.6, 0, 0]], np.float32)\n",
        "\n",
        "RGB2YUV = np.array([[0.299, 0.587, 0.114],\n",
        "                    [-0.14713, -0.28886, 0.436],\n",
        "                    [0.615, -0.51499, -0.10001]], np.float32)\n",
        "np.set_printoptions(precision=3, suppress=True)"
      ],
      "metadata": {
        "id": "oiLxUsWUqybH"
      },
      "execution_count": 19,
      "outputs": []
    },
    {
      "cell_type": "code",
      "source": [
        "#@title 1(a)\n",
        "print(apply_mat(im, RGB2YUV))"
      ],
      "metadata": {
        "colab": {
          "base_uri": "https://localhost:8080/"
        },
        "id": "8fW22xQar_Y5",
        "outputId": "24cbb32a-958c-4d03-f84e-eca32f307651"
      },
      "execution_count": 20,
      "outputs": [
        {
          "output_type": "stream",
          "name": "stdout",
          "text": [
            "[[ 0.8    0.     0.   ]\n",
            " [ 0.5    0.     0.   ]\n",
            " [ 0.416 -0.205  0.512]\n",
            " [ 0.179 -0.088  0.369]]\n"
          ]
        }
      ]
    },
    {
      "cell_type": "code",
      "source": [
        "print(im.dot(RGB2YUV.T))"
      ],
      "metadata": {
        "colab": {
          "base_uri": "https://localhost:8080/"
        },
        "id": "RhtfOEzNa_Ct",
        "outputId": "fb520bfc-f958-4b00-afa8-5274e3eef5ac"
      },
      "execution_count": 21,
      "outputs": [
        {
          "output_type": "stream",
          "name": "stdout",
          "text": [
            "[[ 0.8    0.     0.   ]\n",
            " [ 0.5    0.     0.   ]\n",
            " [ 0.416 -0.205  0.512]\n",
            " [ 0.179 -0.088  0.369]]\n"
          ]
        }
      ]
    },
    {
      "cell_type": "code",
      "source": [
        "#@title 1(b)\n",
        "gray = np.mean(im, axis=1)\n",
        "print(gray)"
      ],
      "metadata": {
        "id": "CNTBqf9ArVjt",
        "colab": {
          "base_uri": "https://localhost:8080/"
        },
        "outputId": "4c918ad4-f4c1-44ae-9d07-6c344207d263"
      },
      "execution_count": 22,
      "outputs": [
        {
          "output_type": "stream",
          "name": "stdout",
          "text": [
            "[0.8 0.5 0.4 0.2]\n"
          ]
        }
      ]
    },
    {
      "cell_type": "code",
      "source": [
        "#@title 1(c)\n",
        "gray_gained = np.clip(gray * 2, 0.0, 1.0)\n",
        "print(gray_gained)"
      ],
      "metadata": {
        "colab": {
          "base_uri": "https://localhost:8080/"
        },
        "id": "mZtBIxDgC9mH",
        "outputId": "760ebd44-b3c3-489d-cd2b-7a3d2039ef83"
      },
      "execution_count": 23,
      "outputs": [
        {
          "output_type": "stream",
          "name": "stdout",
          "text": [
            "[1.  1.  0.8 0.4]\n"
          ]
        }
      ]
    },
    {
      "cell_type": "code",
      "source": [
        "#@title 1(d)\n",
        "gamma_gray = np.power(gray, 1/2.2)\n",
        "ratio = gamma_gray / gray\n",
        "print(ratio)"
      ],
      "metadata": {
        "colab": {
          "base_uri": "https://localhost:8080/"
        },
        "id": "VFaAyRVLrKkd",
        "outputId": "8d701d47-efb4-4654-c12e-1717f463b675"
      },
      "execution_count": 7,
      "outputs": [
        {
          "output_type": "stream",
          "name": "stdout",
          "text": [
            "[1.129 1.459 1.648 2.406]\n"
          ]
        }
      ]
    },
    {
      "cell_type": "code",
      "source": [
        "gamma_rgb = np.clip(im * ratio[..., np.newaxis], 0.0, 1.0)\n",
        "print(gamma_rgb)"
      ],
      "metadata": {
        "colab": {
          "base_uri": "https://localhost:8080/"
        },
        "id": "qadLq6M90rTQ",
        "outputId": "30676775-67c6-4a50-9c49-84fe3a7bc136"
      },
      "execution_count": 8,
      "outputs": [
        {
          "output_type": "stream",
          "name": "stdout",
          "text": [
            "[[0.904 0.904 0.904]\n",
            " [0.73  0.73  0.73 ]\n",
            " [1.    0.33  0.   ]\n",
            " [1.    0.    0.   ]]\n"
          ]
        }
      ]
    },
    {
      "cell_type": "markdown",
      "source": [
        "# Question 3"
      ],
      "metadata": {
        "id": "TdmdUAnVYA6B"
      }
    },
    {
      "cell_type": "code",
      "source": [
        "im = np.array([[.2, .2, .8],\n",
        "               [.2, .2, .9],\n",
        "               [.2, .2, .8]], np.float32)\n",
        "kernel = np.array([[0.0, 0.1, 0.0],\n",
        "                   [0.1, 0.6, 0.1],\n",
        "                   [0.0, 0.1, 0.0]], np.float32)\n",
        "np.set_printoptions(precision=3, suppress=True)"
      ],
      "metadata": {
        "id": "TTtI2Kp4YCY1"
      },
      "execution_count": 24,
      "outputs": []
    },
    {
      "cell_type": "code",
      "source": [
        "#@title Question 3a\n",
        "\n",
        "print(cv2.filter2D(im, -1, kernel, borderType=cv2.BORDER_REPLICATE))"
      ],
      "metadata": {
        "colab": {
          "base_uri": "https://localhost:8080/"
        },
        "id": "qiH1fvDfYY9O",
        "outputId": "36faa103-0d1f-4e8f-94cd-cb653fa8ee9d"
      },
      "execution_count": 10,
      "outputs": [
        {
          "output_type": "stream",
          "name": "stdout",
          "text": [
            "[[0.2  0.26 0.75]\n",
            " [0.2  0.27 0.81]\n",
            " [0.2  0.26 0.75]]\n"
          ]
        }
      ]
    },
    {
      "cell_type": "code",
      "source": [
        "#@title Question 3b\n",
        "\n",
        "i_kernel = np.zeros((3, 3), np.float32)\n",
        "i_kernel[1, 1] = 1\n",
        "sharpen_kernel = 2 * i_kernel - kernel\n",
        "print(sharpen_kernel)\n",
        "print(cv2.filter2D(im, -1, sharpen_kernel, borderType=cv2.BORDER_REPLICATE))"
      ],
      "metadata": {
        "colab": {
          "base_uri": "https://localhost:8080/"
        },
        "id": "WeC51MyfaRTl",
        "outputId": "d07c8af5-3f11-42c3-e002-defa49cbd5be"
      },
      "execution_count": 11,
      "outputs": [
        {
          "output_type": "stream",
          "name": "stdout",
          "text": [
            "[[ 0.  -0.1  0. ]\n",
            " [-0.1  1.4 -0.1]\n",
            " [ 0.  -0.1  0. ]]\n",
            "[[0.2  0.14 0.85]\n",
            " [0.2  0.13 0.99]\n",
            " [0.2  0.14 0.85]]\n"
          ]
        }
      ]
    },
    {
      "cell_type": "code",
      "source": [
        "#@title Question 3c\n",
        "\n",
        "print(cv2.medianBlur(im, 3))"
      ],
      "metadata": {
        "colab": {
          "base_uri": "https://localhost:8080/"
        },
        "id": "44WuXtrrctTI",
        "outputId": "d2aafe44-472a-4e80-fa06-35342eb70827"
      },
      "execution_count": 12,
      "outputs": [
        {
          "output_type": "stream",
          "name": "stdout",
          "text": [
            "[[0.2 0.2 0.8]\n",
            " [0.2 0.2 0.8]\n",
            " [0.2 0.2 0.8]]\n"
          ]
        }
      ]
    },
    {
      "cell_type": "markdown",
      "source": [
        "# Question 4"
      ],
      "metadata": {
        "id": "jBBp07WbdoMy"
      }
    },
    {
      "cell_type": "code",
      "source": [
        "im = np.array([[.1, .1, .0, .0,],\n",
        "               [.3, .3, .2, .2,],\n",
        "               [.4, .4, .5, .5,],\n",
        "               [.6, .6, .7, .7,]], np.float32)"
      ],
      "metadata": {
        "id": "L4QF_VaagySL"
      },
      "execution_count": 13,
      "outputs": []
    },
    {
      "cell_type": "code",
      "source": [
        "#@title 4(a)\n",
        "\n",
        "print(np.rot90(im, -1))"
      ],
      "metadata": {
        "colab": {
          "base_uri": "https://localhost:8080/"
        },
        "id": "aUtle_8St-C3",
        "outputId": "183019f0-c510-4177-9065-1ba3f7f8a706"
      },
      "execution_count": 14,
      "outputs": [
        {
          "output_type": "stream",
          "name": "stdout",
          "text": [
            "[[0.6 0.4 0.3 0.1]\n",
            " [0.6 0.4 0.3 0.1]\n",
            " [0.7 0.5 0.2 0. ]\n",
            " [0.7 0.5 0.2 0. ]]\n"
          ]
        }
      ]
    },
    {
      "cell_type": "code",
      "source": [
        "#@title 4(b)\n",
        "\n",
        "x = np.array(range(4))\n",
        "y = np.array(range(4))\n",
        "X, Y = np.meshgrid(x, y)\n",
        "f = interpolate.interp2d(X, Y, im, kind='linear', )\n",
        "out = np.zeros((4, 4), np.float32)\n",
        "for i in range(4):\n",
        "  for j in range(4):\n",
        "    out[i, j] = f(x[j], np.clip(y[i] - .5, 0, 3))\n",
        "\n",
        "print(out)"
      ],
      "metadata": {
        "id": "vtRR8ygYdqI0",
        "cellView": "form"
      },
      "execution_count": null,
      "outputs": []
    },
    {
      "cell_type": "code",
      "source": [
        "#@title 4(b) -v2\n"
      ],
      "metadata": {
        "id": "9-dthnaGJO59"
      },
      "execution_count": null,
      "outputs": []
    },
    {
      "cell_type": "code",
      "source": [
        "new_im = np.zeros((5,4),np.float32)\n",
        "out_img = np.zeros((4,4),np.float32)\n",
        "new_im[0, :] = im[0, :]\n",
        "new_im[1:5, :] = im[0:4, :]\n",
        "for i in range(4):\n",
        "  out_img[i,:] = (new_im[i,:]+ new_im[i+1,:]) / 2\n",
        "print(out_img)"
      ],
      "metadata": {
        "colab": {
          "base_uri": "https://localhost:8080/"
        },
        "id": "5zY9LGUpGwvF",
        "outputId": "984054a8-ed56-4eb2-f642-550fa869caf7"
      },
      "execution_count": 16,
      "outputs": [
        {
          "output_type": "stream",
          "name": "stdout",
          "text": [
            "[[0.1  0.1  0.   0.  ]\n",
            " [0.2  0.2  0.1  0.1 ]\n",
            " [0.35 0.35 0.35 0.35]\n",
            " [0.5  0.5  0.6  0.6 ]]\n"
          ]
        }
      ]
    },
    {
      "cell_type": "code",
      "source": [
        "#@title 4(c)\n",
        "out = np.zeros((2, 2), np.float32)\n",
        "h,w = im.shape\n",
        "step_h = h // 2\n",
        "step_w = w // 2\n",
        "for i in range(2):\n",
        "  for j in range(2):\n",
        "    out[j][i] = np.sum(im[j*step_h:(j+1)*step_h, i*step_w:(i+1)*step_w ]) / (step_h * step_w)\n",
        "print(out)"
      ],
      "metadata": {
        "colab": {
          "base_uri": "https://localhost:8080/"
        },
        "id": "iQkQj5g8Gw1X",
        "outputId": "402c8a01-be42-4702-c058-6fa1b5ecc7c5"
      },
      "execution_count": 17,
      "outputs": [
        {
          "output_type": "stream",
          "name": "stdout",
          "text": [
            "[[0.2 0.1]\n",
            " [0.5 0.6]]\n"
          ]
        }
      ]
    }
  ]
}